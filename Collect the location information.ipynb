{
 "cells": [
  {
   "cell_type": "markdown",
   "id": "e7c75766",
   "metadata": {},
   "source": [
    "### The code for collecting national urban heritage location"
   ]
  },
  {
   "cell_type": "code",
   "execution_count": null,
   "id": "54d879e1",
   "metadata": {},
   "outputs": [],
   "source": [
    "import pandas as pd\n",
    "import requests\n",
    "import json\n",
    "from datetime import datetime\n",
    "\n",
    "listing = pd.read_csv('urban heritage list.txt', encoding='utf-8',header=None)\n",
    "\n",
    "data = []\n",
    "for i in range(len(listing)):\n",
    "    l = listing.loc[i,0]\n",
    "    print(datetime.now())\n",
    "    response = requests.get('https://api.map.baidu.com/place/v2/suggestion?query='+l+'&region=上海&city_limit=true&output=json&ak=xxxxxxxxx')\n",
    "    json_data1 = response.text\n",
    "    py_data_L = json.loads(json_data1)#change data type from json to dictionary\n",
    "    data.append(py_data_L)\n",
    "    \n",
    "    values = py_data_L['result']\n",
    "    if values == []:\n",
    "        name = 0\n",
    "        lat = 0\n",
    "        lng = 0\n",
    "        address = 0\n",
    "        tag = 0\n",
    "    else:\n",
    "        name = values[0]['name']\n",
    "        lat =  values[0]['location']['lat']\n",
    "        lng =  values[0]['location']['lng']\n",
    "        address =  values[0]['address']\n",
    "        tag =  values[0]['tag']\n",
    "        if len(values)>1:\n",
    "            name2 = values[1]['name']\n",
    "            lat2 =  values[1]['location']['lat']\n",
    "            lng2 =  values[1]['location']['lng']\n",
    "            address2 =  values[1]['address']\n",
    "            tag2 =  values[1]['tag']\n",
    "   \n",
    "    data_2 = name+\"|\"+str(lat)+\"|\"+str(lng)+\"|\"+address+\"|\"+tag+\"|  *****  |\"+name2+\"|\"+str(lat2)+\"|\"+str(lng2)+\"|\"+address2+\"|\"+tag2+\"\\n\"\n",
    "    #save in local document\n",
    "    with open(\"urban heritage location.txt\",\"a\") as f:\n",
    "        f.write(data_2)"
   ]
  }
 ],
 "metadata": {
  "kernelspec": {
   "display_name": "Python 3 (ipykernel)",
   "language": "python",
   "name": "python3"
  },
  "language_info": {
   "codemirror_mode": {
    "name": "ipython",
    "version": 3
   },
   "file_extension": ".py",
   "mimetype": "text/x-python",
   "name": "python",
   "nbconvert_exporter": "python",
   "pygments_lexer": "ipython3",
   "version": "3.9.13"
  }
 },
 "nbformat": 4,
 "nbformat_minor": 5
}
